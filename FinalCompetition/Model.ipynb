{
 "cells": [
  {
   "cell_type": "code",
   "execution_count": 1,
   "metadata": {},
   "outputs": [],
   "source": [
    "import gc # сборщик мусора\n",
    "import datetime\n",
    "\n",
    "import matplotlib.pyplot as plt\n",
    "import matplotlib\n",
    "import matplotlib.image as img\n",
    "import seaborn as sns\n",
    "%matplotlib inline\n",
    "import numpy as np # linear algebra\n",
    "import pandas as pd # data processing, CSV file I/O (e.g. pd.read_csv)\n",
    "\n",
    "from sklearn.ensemble import RandomForestRegressor\n",
    "from sklearn.model_selection import train_test_split, KFold, GridSearchCV, cross_val_score\n",
    "\n",
    "from lightgbm import LGBMRegressor\n",
    "\n",
    "from sklearn.decomposition import PCA\n",
    "from sklearn.manifold import TSNE\n",
    "\n",
    "from sklearn.metrics import mean_squared_error as mse, r2_score as r2\n",
    "\n",
    "from sklearn.preprocessing import StandardScaler, RobustScaler\n",
    "%matplotlib inline"
   ]
  },
  {
   "cell_type": "markdown",
   "metadata": {},
   "source": [
    "# Используемые функции"
   ]
  },
  {
   "cell_type": "code",
   "execution_count": 2,
   "metadata": {},
   "outputs": [],
   "source": [
    "def reduce_mem_usage(df):\n",
    "    \"\"\" iterate through all the columns of a dataframe and modify the data type\n",
    "        to reduce memory usage.        \n",
    "    \"\"\"\n",
    "    start_mem = df.memory_usage().sum() / 1024**2\n",
    "    print('Memory usage of dataframe is {:.2f} MB'.format(start_mem))\n",
    "    \n",
    "    for col in df.columns:\n",
    "        col_type = df[col].dtype\n",
    "        \n",
    "        if col_type != object:\n",
    "            c_min = df[col].min()\n",
    "            c_max = df[col].max()\n",
    "            if str(col_type)[:3] == 'int':\n",
    "                if c_min > np.iinfo(np.int8).min and c_max < np.iinfo(np.int8).max:\n",
    "                    df[col] = df[col].astype(np.int8)\n",
    "                elif c_min > np.iinfo(np.int16).min and c_max < np.iinfo(np.int16).max:\n",
    "                    df[col] = df[col].astype(np.int16)\n",
    "                elif c_min > np.iinfo(np.int32).min and c_max < np.iinfo(np.int32).max:\n",
    "                    df[col] = df[col].astype(np.int32)\n",
    "                elif c_min > np.iinfo(np.int64).min and c_max < np.iinfo(np.int64).max:\n",
    "                    df[col] = df[col].astype(np.int64)  \n",
    "            else:\n",
    "#                 if c_min > np.finfo(np.float16).min and c_max < np.finfo(np.float16).max:\n",
    "#                     df[col] = df[col].astype(np.float16)\n",
    "#                 elif\n",
    "\n",
    "                if c_min > np.finfo(np.float32).min and c_max < np.finfo(np.float32).max:\n",
    "                    df[col] = df[col].astype(np.float32)\n",
    "                else:\n",
    "                    df[col] = df[col].astype(np.float64)\n",
    "        else:\n",
    "            df[col] = df[col].astype('category')\n",
    "\n",
    "    end_mem = df.memory_usage().sum() / 1024**2\n",
    "    print('Memory usage after optimization is: {:.2f} MB'.format(end_mem))\n",
    "    print('Decreased by {:.1f}%'.format(100 * (start_mem - end_mem) / start_mem))\n",
    "    \n",
    "    return df"
   ]
  },
  {
   "cell_type": "code",
   "execution_count": 3,
   "metadata": {},
   "outputs": [],
   "source": [
    "def reduce_dims(df, dims=2, method='pca'):\n",
    "    \n",
    "    assert method in ['pca', 'tsne'], 'Неверно указан метод'\n",
    "    \n",
    "    if method=='pca':\n",
    "        dim_reducer = PCA(n_components=dims, random_state=42)\n",
    "        components = dim_reducer.fit_transform(df)\n",
    "    elif method == 'tsne':\n",
    "        dim_reducer = TSNE(n_components=dims, learning_rate=250, random_state=42)\n",
    "        components = dim_reducer.fit_transform(df)\n",
    "    else:\n",
    "        print('Error')\n",
    "        \n",
    "    colnames = ['component_' + str(i) for i in range(1, dims+1)]\n",
    "    return dim_reducer, pd.DataFrame(data = components, columns = colnames) "
   ]
  },
  {
   "cell_type": "code",
   "execution_count": 4,
   "metadata": {},
   "outputs": [],
   "source": [
    "def plot_feature_importances(importances, X):\n",
    "    \n",
    "    indices = np.argsort(importances)[::-1]\n",
    "\n",
    "    plt.figure(figsize = (20, 6))\n",
    "    plt.title(\"Feature importances\", fontsize=16)\n",
    "    plt.bar(range(X.shape[1]), importances[indices] / importances.sum(),\n",
    "           color=\"darkblue\", align=\"center\")\n",
    "    plt.xticks(range(X.shape[1]), X.columns[indices], rotation = 90, fontsize=14)\n",
    "    plt.xlim([-1, X.shape[1]])\n",
    "\n",
    "    plt.tight_layout()\n",
    "    # plt.savefig('fe.jpg')\n",
    "    plt.show()"
   ]
  },
  {
   "cell_type": "markdown",
   "metadata": {},
   "source": [
    "# Загрузка данных"
   ]
  },
  {
   "cell_type": "code",
   "execution_count": 5,
   "metadata": {},
   "outputs": [
    {
     "name": "stdout",
     "output_type": "stream",
     "text": [
      "Строк в трейне: 10000\n",
      "Строк в тесте 5000\n"
     ]
    },
    {
     "data": {
      "text/plain": [
       "15"
      ]
     },
     "execution_count": 5,
     "metadata": {},
     "output_type": "execute_result"
    }
   ],
   "source": [
    "df = pd.read_csv('../../kaggle/realestatepriceprediction/train.csv')\n",
    "\n",
    "X = df.drop('Price', axis=1)\n",
    "y = df[['Id', 'Price']]\n",
    "\n",
    "X_final = pd.read_csv('../../kaggle/realestatepriceprediction/test.csv')\n",
    "\n",
    "X.set_index('Id', inplace=True)\n",
    "X_final.set_index('Id', inplace=True)\n",
    "y.set_index('Id', inplace=True)\n",
    "\n",
    "print('Строк в трейне:' ,  X.shape[0])\n",
    "print('Строк в тесте', X_final.shape[0])\n",
    "\n",
    "# Удалим ненужные файлы\n",
    "del df\n",
    "gc.collect()  "
   ]
  },
  {
   "cell_type": "code",
   "execution_count": 6,
   "metadata": {},
   "outputs": [],
   "source": [
    "final_index_list = X_final.index"
   ]
  },
  {
   "cell_type": "code",
   "execution_count": 7,
   "metadata": {},
   "outputs": [
    {
     "name": "stdout",
     "output_type": "stream",
     "text": [
      "Memory usage of dataframe is 1.45 MB\n",
      "Memory usage after optimization is: 0.51 MB\n",
      "Decreased by 65.1%\n"
     ]
    }
   ],
   "source": [
    "X = reduce_mem_usage(X)"
   ]
  },
  {
   "cell_type": "code",
   "execution_count": 8,
   "metadata": {},
   "outputs": [
    {
     "name": "stdout",
     "output_type": "stream",
     "text": [
      "Memory usage of dataframe is 0.72 MB\n",
      "Memory usage after optimization is: 0.24 MB\n",
      "Decreased by 66.4%\n"
     ]
    }
   ],
   "source": [
    "X_final = reduce_mem_usage(X_final)"
   ]
  },
  {
   "cell_type": "markdown",
   "metadata": {},
   "source": [
    "# Очистка данных"
   ]
  },
  {
   "cell_type": "code",
   "execution_count": 9,
   "metadata": {},
   "outputs": [],
   "source": [
    "# одно единственное эффективное удаление выбросов\n",
    "\n",
    "index_list = X[X['Square'] > 300].index\n",
    "X = X.drop(index_list)\n",
    "y = y.drop(index_list)"
   ]
  },
  {
   "cell_type": "code",
   "execution_count": 12,
   "metadata": {},
   "outputs": [],
   "source": [
    "class FeatureImputer:\n",
    "    \"\"\"Заполнение пропусков и облработка выбросов\"\"\"\n",
    "    \n",
    "    def __init__(self):\n",
    "        self.medians=None\n",
    "\n",
    "    def fit(self, X):\n",
    "        self.medians = X.median()\n",
    "    \n",
    "    def transform(self, X):\n",
    "        \n",
    "        # Rooms\n",
    "        X['Rooms_outlier'] = 0\n",
    "        X.loc[(X['Rooms'] == 0) | (X['Rooms'] >= 6), 'Rooms_outlier'] = 1\n",
    "        \n",
    "        X.loc[X['Rooms'] == 0, 'Rooms'] = 1\n",
    "        X.loc[X['Rooms'] >= 6, 'Rooms'] = self.medians['Rooms']\n",
    "        \n",
    "        # KitchenSquare\n",
    "        X.loc[X['KitchenSquare'] < 3, 'KitchenSquare'] = 3\n",
    "        X.loc[X['KitchenSquare'] > 1000, 'KitchenSquare'] = X.loc[X['KitchenSquare'] > 1000, 'KitchenSquare'] / 10\n",
    "        \n",
    "        # HouseFloor, Floor\n",
    "        X['HouseFloor_outlier'] = 0\n",
    "        X.loc[X['HouseFloor'] == 0, 'HouseFloor_outlier'] = 1\n",
    "        X.loc[X['Floor'] > X['HouseFloor'], 'HouseFloor_outlier'] = 1\n",
    "        \n",
    "        X.loc[X['HouseFloor'] == 0, 'HouseFloor'] = self.medians['HouseFloor']\n",
    "        X.loc[X['Floor'] > X['HouseFloor'], 'Floor'] = X.loc[X['Floor'] > X['HouseFloor'], 'HouseFloor']\n",
    "        \n",
    "        # HouseYear\n",
    "        current_year = now = datetime.datetime.now().year\n",
    "        \n",
    "        X['HouseYear_outlier'] = 0\n",
    "        X.loc[X['HouseYear'] > current_year, 'HouseYear_outlier'] = 1\n",
    "        \n",
    "        X.loc[X['HouseYear'] > current_year, 'HouseYear'] = current_year\n",
    "        \n",
    "        # Healthcare_1\n",
    "        if 'Healthcare_1' in X.columns:\n",
    "            X.drop('Healthcare_1', axis=1, inplace=True)\n",
    "            \n",
    "        # LifeSquare\n",
    "        X['LifeSquare_nan'] = X['LifeSquare'].isna() * 1\n",
    "        \n",
    "        condition = (X['LifeSquare'].isna()) &\\\n",
    "                      (~X['Square'].isna()) & \\\n",
    "                      (~X['KitchenSquare'].isna())\n",
    "        \n",
    "        X.loc[X['LifeSquare_nan'] == 1, 'LifeSquare'] = X.loc[condition, 'Square'] - X.loc[condition, 'KitchenSquare'] - 1\n",
    "        \n",
    "        # X['LifeSquare'] + X['KitchenSquare'] < X['Square']\n",
    "        X['SqSum_outliner'] = 0\n",
    "        X.loc[(X['LifeSquare'] + X['KitchenSquare'] < X['Square'] - 20), 'SqSum_outliner'] = 1\n",
    "        X.loc[X['SqSum_outliner'] == 1, 'LifeSquare'] = X.loc[X['SqSum_outliner'] == 1, 'Rooms']*17.5\n",
    "        \n",
    "        X['SqSum2_outliner'] = 0\n",
    "        X.loc[(X['LifeSquare'] + X['KitchenSquare'] < X['Square'] - 20), 'SqSum2_outliner'] = 1\n",
    "        X.loc[X['SqSum2_outliner'] == 1, 'LifeSquare'] = X.loc[X['SqSum2_outliner'] == 1, 'Square'] - X.loc[X['SqSum2_outliner'] == 1, 'KitchenSquare'] - 1\n",
    "        \n",
    "        \n",
    "        return X\n",
    "    "
   ]
  },
  {
   "cell_type": "code",
   "execution_count": 13,
   "metadata": {},
   "outputs": [],
   "source": [
    "imputer = FeatureImputer()\n",
    "\n",
    "imputer.fit(X)\n",
    "\n",
    "X = imputer.transform(X)\n",
    "\n",
    "X_final = imputer.transform(X_final)"
   ]
  },
  {
   "cell_type": "markdown",
   "metadata": {},
   "source": [
    "# Добавляем признаки"
   ]
  },
  {
   "cell_type": "code",
   "execution_count": 14,
   "metadata": {},
   "outputs": [],
   "source": [
    "class FeatureGenetator():\n",
    "    \"\"\"Генерация новых фич\"\"\"\n",
    "    \n",
    "    def __init__(self):\n",
    "        self.DistrictId_counts = None\n",
    "        self.binary_to_numbers = None\n",
    "        self.med_price_by_district = None\n",
    "        \n",
    "    def fit(self, X, y=None):\n",
    "        \n",
    "        X = X.copy()\n",
    "        \n",
    "        # DistrictID\n",
    "        district = X['DistrictId'].value_counts()\n",
    "        district = district[district > 40]\n",
    "        \n",
    "        self.DistrictId_counts = dict(district)\n",
    "        \n",
    "        # Binary features\n",
    "        self.binary_to_numbers = {'A': 0, 'B': 1}\n",
    "        \n",
    "        # Target encoding\n",
    "        ## District\n",
    "        df = X.copy()\n",
    "        \n",
    "        if y is not None:\n",
    "            df['Price'] = y.values\n",
    "            \n",
    "            df['DistrictId_popular'] = df['DistrictId'].copy()\n",
    "            df.loc[~df['DistrictId_popular'].isin(district.keys().tolist())] = np.nan\n",
    "            \n",
    "            self.med_price_by_district = df.groupby(['DistrictId_popular', 'Rooms'], as_index=False).agg({'Price':'median'}).\\\n",
    "                                            rename(columns={'Price':'MedPriceByDistrict',\n",
    "                                                           'DistrictId_popular': 'DistrictId'})\n",
    "            \n",
    "        ## floor, year\n",
    "        if y is not None:\n",
    "            df['Price'] = y.values\n",
    "            df = self.floor_to_cat(df)\n",
    "            df = self.year_to_cat(df)\n",
    "            self.med_price_by_floor_year = df.groupby(['year_cat', 'floor_cat'], as_index=False).agg({'Price':'median'}).\\\n",
    "                                            rename(columns={'Price':'MedPriceByFloorYear'})\n",
    "            \n",
    "        ## square\n",
    "        if y is not None:\n",
    "            df['Price'] = y.values\n",
    "            df = self.square_to_cat(df)\n",
    "            self.med_price_by_square = df.groupby(['sq_cat'], as_index = False).agg({'Price':'median'}).\\\n",
    "                                        rename(columns={'Price':'MedPriceBySq'})\n",
    "        \n",
    "    def transform(self, X):\n",
    "        \n",
    "        # DistrictId\n",
    "        X['DistrictId_count'] = X['DistrictId'].map(self.DistrictId_counts)\n",
    "        \n",
    "        X['new_district'] = 0\n",
    "        X.loc[X['DistrictId_count'].isna(), 'new_district'] = 1\n",
    "        \n",
    "        X['DistrictId_count'].fillna(5, inplace=True)\n",
    "        \n",
    "        \n",
    "        # More categorical features\n",
    "        X = self.floor_to_cat(X)\n",
    "        X = self.year_to_cat(X) \n",
    "        X = self.square_to_cat(X)\n",
    "        \n",
    "        # Target encoding\n",
    "        if self.med_price_by_district is not None:\n",
    "            X = X.merge(self.med_price_by_district, on=['DistrictId', 'Rooms'], how='left')\n",
    "        if self.med_price_by_floor_year is not None:\n",
    "            X = X.merge(self.med_price_by_floor_year, on=['year_cat', 'floor_cat'], how='left')\n",
    "        if self.med_price_by_square is not None:\n",
    "            X = X.merge(self.med_price_by_square, on=['sq_cat'], how='left')\n",
    "            \n",
    "        # Binary features\n",
    "        X['Ecology_2'] = X['Ecology_2'].map(self.binary_to_numbers)\n",
    "        X['Ecology_2'] = X['Ecology_2'].astype('int8')\n",
    "        X['Ecology_3'] = X['Ecology_3'].map(self.binary_to_numbers)\n",
    "        X['Ecology_3'] = X['Ecology_3'].astype('int8')\n",
    "        X['Shops_2'] = X['Shops_2'].map(self.binary_to_numbers)\n",
    "        X['Shops_2'] = X['Shops_2'].astype('int8')\n",
    "        X['Comb_eco2_eco3_shop2'] = X['Ecology_2'] + X['Ecology_3'] + X['Shops_2']\n",
    "        \n",
    "        return X\n",
    "    \n",
    "    @staticmethod\n",
    "    def floor_to_cat(X):\n",
    "        \n",
    "        X['floor_cat'] = np.nan\n",
    "        \n",
    "        X.loc[X['Floor'] < 3, 'floor_cat'] = 1  \n",
    "        X.loc[(X['Floor'] >= 3) & (X['Floor'] <= 5), 'floor_cat'] = 2\n",
    "        X.loc[(X['Floor'] > 5) & (X['Floor'] <= 9), 'floor_cat'] = 3\n",
    "        X.loc[(X['Floor'] > 9) & (X['Floor'] <= 15), 'floor_cat'] = 4\n",
    "        X.loc[X['Floor'] > 15, 'floor_cat'] = 5\n",
    "            \n",
    "        return X\n",
    "     \n",
    "    @staticmethod\n",
    "    def year_to_cat(X):\n",
    "        \n",
    "        X['year_cat'] = np.nan\n",
    "        \n",
    "        X.loc[X['HouseYear'] < 1941, 'year_cat'] = 1\n",
    "        X.loc[(X['HouseYear'] >= 1941) & (X['HouseYear'] <= 1945), 'year_cat'] = 2\n",
    "        X.loc[(X['HouseYear'] > 1945) & (X['HouseYear'] <= 1980), 'year_cat'] = 3\n",
    "        X.loc[(X['HouseYear'] > 1980) & (X['HouseYear'] <= 2000), 'year_cat'] = 4\n",
    "        X.loc[(X['HouseYear'] > 2000) & (X['HouseYear'] <= 2010), 'year_cat'] = 5\n",
    "        X.loc[(X['HouseYear'] > 2010), 'year_cat'] = 6\n",
    "            \n",
    "        return X\n",
    "    \n",
    "    @staticmethod\n",
    "    def square_to_cat(X):\n",
    "        X['sq_cat'] = np.nan\n",
    "        \n",
    "        X.loc[X['Square'] < 25, 'sq_cat'] = 1\n",
    "        X.loc[(X['Square'] >= 25) & (X['Square'] < 40), 'sq_cat'] = 2\n",
    "        X.loc[(X['Square'] >= 40) & (X['Square'] < 50), 'sq_cat'] = 5\n",
    "        X.loc[(X['Square'] >= 50) & (X['Square'] < 60), 'sq_cat'] = 6\n",
    "        X.loc[(X['Square'] >= 60) & (X['Square'] < 70), 'sq_cat'] = 3\n",
    "        X.loc[(X['Square'] >= 70) & (X['Square'] < 80), 'sq_cat'] = 4\n",
    "        X.loc[(X['Square'] >= 80) & (X['Square'] < 100), 'sq_cat'] = 5\n",
    "        X.loc[(X['Square'] >= 100) & (X['Square'] < 126), 'sq_cat'] = 6\n",
    "        X.loc[(X['Square'] >= 125), 'sq_cat'] = 7\n",
    "        \n",
    "        return X"
   ]
  },
  {
   "cell_type": "code",
   "execution_count": 15,
   "metadata": {},
   "outputs": [],
   "source": [
    "features = FeatureGenetator()\n",
    "\n",
    "features.fit(X, y)\n",
    "\n",
    "X = features.transform(X)\n",
    "X_final = features.transform(X_final)"
   ]
  },
  {
   "cell_type": "code",
   "execution_count": 16,
   "metadata": {},
   "outputs": [],
   "source": [
    "# отдельно работаем с PCA\n",
    "\n",
    "scaler = RobustScaler(with_centering=True, with_scaling=True, quantile_range=(25.0, 75.0))\n",
    "\n",
    "sub_fr = X[['Social_1','Social_2']].copy()\n",
    "sub_fr_final = X_final[['Social_1','Social_2']].copy()\n",
    "\n",
    "colnames = sub_fr.columns\n",
    "sf_train_scaled = pd.DataFrame(scaler.fit_transform(sub_fr), columns=colnames)\n",
    "sf_test_scaled = pd.DataFrame(scaler.transform(sub_fr_final), columns=colnames) # НЕ обучаемся на тесте!\n",
    "\n",
    "dim_reducer1d, components_1d = reduce_dims(sf_train_scaled, dims=1, method='pca')\n",
    "\n",
    "comp_1d_final = dim_reducer1d.transform(sf_test_scaled)\n",
    "\n",
    "X['comp_1'] = components_1d['component_1']\n",
    "X_final['comp_1'] = comp_1d_final"
   ]
  },
  {
   "cell_type": "markdown",
   "metadata": {},
   "source": [
    "# Построение модели"
   ]
  },
  {
   "cell_type": "code",
   "execution_count": 17,
   "metadata": {},
   "outputs": [
    {
     "data": {
      "text/plain": [
       "Index(['DistrictId', 'Rooms', 'Square', 'LifeSquare', 'KitchenSquare', 'Floor',\n",
       "       'HouseFloor', 'HouseYear', 'Ecology_1', 'Social_3', 'Helthcare_2',\n",
       "       'Shops_1', 'Shops_2', 'Rooms_outlier', 'HouseFloor_outlier',\n",
       "       'HouseYear_outlier', 'LifeSquare_nan', 'SqSum_outliner',\n",
       "       'SqSum2_outliner', 'DistrictId_count', 'new_district', 'sq_cat',\n",
       "       'MedPriceByDistrict', 'MedPriceByFloorYear', 'MedPriceBySq',\n",
       "       'Comb_eco2_eco3_shop2', 'comp_1'],\n",
       "      dtype='object')"
      ]
     },
     "execution_count": 17,
     "metadata": {},
     "output_type": "execute_result"
    }
   ],
   "source": [
    "drop_features = ['floor_cat', 'year_cat', 'Ecology_3', 'Ecology_2', 'Social_1', 'Social_2']\n",
    "X = X.drop(drop_features, axis = 1)\n",
    "X_final = X_final.drop(drop_features, axis=1)\n",
    "X.columns"
   ]
  },
  {
   "cell_type": "code",
   "execution_count": null,
   "metadata": {},
   "outputs": [],
   "source": [
    "# используем для оптимизации\n",
    "lgb_model = LGBMRegressor(criterion='mse',\n",
    "                            min_samples_leaf=10,\n",
    "                            random_state=42                      \n",
    "                         )\n",
    "\n",
    "params = {'n_estimators':range(100, 350, 10), \n",
    "          'max_depth':range(3, 20, 2)}\n",
    "\n",
    "gs = GridSearchCV(lgb_model, params, \n",
    "                  scoring='r2',\n",
    "                  cv=KFold(n_splits=5,   \n",
    "                           random_state=42, \n",
    "                           shuffle=True), \n",
    "                  n_jobs=-1  \n",
    "                 )\n",
    "gs.fit(X, y) "
   ]
  },
  {
   "cell_type": "code",
   "execution_count": null,
   "metadata": {},
   "outputs": [],
   "source": [
    "gs.best_params_"
   ]
  },
  {
   "cell_type": "code",
   "execution_count": 18,
   "metadata": {},
   "outputs": [
    {
     "name": "stdout",
     "output_type": "stream",
     "text": [
      "R2: 0.755 +- 0.020\n"
     ]
    }
   ],
   "source": [
    "model = LGBMRegressor(max_depth=7,\n",
    "                             min_samples_leaf=10,\n",
    "                             n_estimators=210,\n",
    "                             random_state=42)\n",
    "\n",
    "cv_score = cross_val_score(model, X, y, \n",
    "                           scoring='r2', \n",
    "                           cv=KFold(n_splits=5, shuffle=True, random_state=42))\n",
    "# cv_score\n",
    "mean = cv_score.mean()\n",
    "std = cv_score.std()\n",
    "\n",
    "print('R2: {:.3f} +- {:.3f}'.format(mean, std))"
   ]
  },
  {
   "cell_type": "code",
   "execution_count": 19,
   "metadata": {},
   "outputs": [
    {
     "data": {
      "text/plain": [
       "LGBMRegressor(boosting_type='gbdt', class_weight=None, colsample_bytree=1.0,\n",
       "              importance_type='split', learning_rate=0.1, max_depth=7,\n",
       "              min_child_samples=20, min_child_weight=0.001, min_samples_leaf=10,\n",
       "              min_split_gain=0.0, n_estimators=210, n_jobs=-1, num_leaves=31,\n",
       "              objective=None, random_state=42, reg_alpha=0.0, reg_lambda=0.0,\n",
       "              silent=True, subsample=1.0, subsample_for_bin=200000,\n",
       "              subsample_freq=0)"
      ]
     },
     "execution_count": 19,
     "metadata": {},
     "output_type": "execute_result"
    }
   ],
   "source": [
    "model.fit(X, y)"
   ]
  },
  {
   "cell_type": "code",
   "execution_count": 20,
   "metadata": {},
   "outputs": [
    {
     "data": {
      "image/png": "[encoded data removed]",
      "text/plain": [
       "<Figure size 1440x432 with 1 Axes>"
      ]
     },
     "metadata": {
      "needs_background": "light"
     },
     "output_type": "display_data"
    }
   ],
   "source": [
    "plot_feature_importances(importances = model.feature_importances_, X=X)"
   ]
  },
  {
   "cell_type": "code",
   "execution_count": null,
   "metadata": {},
   "outputs": [],
   "source": [
    "y_pred_final = model.predict(X_final)\n",
    "\n",
    "preds_final = pd.DataFrame()\n",
    "preds_final['Id'] = final_index_list\n",
    "preds_final['Price'] = y_pred_final\n",
    "preds_final.to_csv('predictions.csv', index=False)\n",
    "\n",
    "preds_final.head()"
   ]
  }
 ],
 "metadata": {
  "kernelspec": {
   "display_name": "Python 3",
   "language": "python",
   "name": "python3"
  },
  "language_info": {
   "codemirror_mode": {
    "name": "ipython",
    "version": 3
   },
   "file_extension": ".py",
   "mimetype": "text/x-python",
   "name": "python",
   "nbconvert_exporter": "python",
   "pygments_lexer": "ipython3",
   "version": "3.7.4"
  }
 },
 "nbformat": 4,
 "nbformat_minor": 2
}
